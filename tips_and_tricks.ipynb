{
 "cells": [
  {
   "cell_type": "markdown",
   "metadata": {},
   "source": [
    "# Tips and Tricks for Comp Coding/Other Prac Problems"
   ]
  },
  {
   "cell_type": "markdown",
   "metadata": {},
   "source": [
    "### Using List Comprehension"
   ]
  },
  {
   "cell_type": "code",
   "execution_count": 2,
   "metadata": {},
   "outputs": [
    {
     "name": "stdout",
     "output_type": "stream",
     "text": [
      "[5, 3, 2, 6, 8, 1]\n"
     ]
    }
   ],
   "source": [
    "a = \"5 3 2 6 8 1\"\n",
    "\n",
    "new_list = [int(x) for x in a.split()]\n",
    "\n",
    "print(new_list)"
   ]
  },
  {
   "cell_type": "markdown",
   "metadata": {},
   "source": [
    "### Examples from Darren Yao's USACO Book, Ch 5: https://darrenyao.com/usacobook/cpp.pdf#page=24 regarding Simulation situations\n",
    "\n",
    "Alice and Bob are standing on a 2D plane. Alice starts at the point (0, 0), and Bob\n",
    "starts at the point (R, S) (1 ≤ R, S ≤ 1000). Every second, Alice moves M units to the\n",
    "right, and N units up. Every second, Bob moves P units to the left, and Q units down.\n",
    "(1 ≤ M, N, P, Q ≤ 10). Determine if Alice and Bob will ever meet (be at the same point at\n",
    "the same time), and if so, when.\n",
    "INPUT FORMAT:\n",
    "The first line of the input contains R and S.\n",
    "The second line of the input contains M , N , P , and Q.\n",
    "OUTPUT FORMAT:\n",
    "Please output a single integer containing the number of seconds after the start at which Alice\n",
    "and Bob meet. If they never meet, please output −1\n"
   ]
  },
  {
   "cell_type": "code",
   "execution_count": 5,
   "metadata": {},
   "outputs": [
    {
     "name": "stdout",
     "output_type": "stream",
     "text": [
      "3\n"
     ]
    }
   ],
   "source": [
    "#bob's initial positions\n",
    "r = 6\n",
    "s = 6\n",
    "#iterators for alice\n",
    "m = 1\n",
    "n = 1\n",
    "#iterators for bob\n",
    "p = 1\n",
    "q = 1\n",
    "ax, ay = 0, 0\n",
    "bx, by = r, s\n",
    "\n",
    "t=0\n",
    "\n",
    "while(ax<bx and ay<by):#while alice and bob have not passed, iterate diagonally\n",
    "    ax+=m\n",
    "    ay+=n\n",
    "    bx-=p\n",
    "    by-=q\n",
    "    t+=1\n",
    "\n",
    "if(ax==bx and ay==by): #if at same spot\n",
    "    print(t)#print time\n",
    "else:\n",
    "    print(-1)#else print -1 (don't meet)"
   ]
  },
  {
   "cell_type": "code",
   "execution_count": null,
   "metadata": {},
   "outputs": [],
   "source": []
  }
 ],
 "metadata": {
  "interpreter": {
   "hash": "40d3a090f54c6569ab1632332b64b2c03c39dcf918b08424e98f38b5ae0af88f"
  },
  "kernelspec": {
   "display_name": "Python 3.8.5 ('base')",
   "language": "python",
   "name": "python3"
  },
  "language_info": {
   "codemirror_mode": {
    "name": "ipython",
    "version": 3
   },
   "file_extension": ".py",
   "mimetype": "text/x-python",
   "name": "python",
   "nbconvert_exporter": "python",
   "pygments_lexer": "ipython3",
   "version": "3.8.5"
  },
  "orig_nbformat": 4
 },
 "nbformat": 4,
 "nbformat_minor": 2
}
