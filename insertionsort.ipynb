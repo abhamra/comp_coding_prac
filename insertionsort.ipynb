{
 "cells": [
  {
   "cell_type": "code",
   "execution_count": 11,
   "metadata": {},
   "outputs": [
    {
     "name": "stdout",
     "output_type": "stream",
     "text": [
      "[1, 2, 3, 3, 4, 5, 8, 9]\n"
     ]
    }
   ],
   "source": [
    "#goal: create an insertion sort mechanism for an unsorted list A\n",
    "\n",
    "checkList = [2, 3, 4, 1, 5, 3, 9, 8]\n",
    "    \n",
    "def insertionSort(A):\n",
    "    \n",
    "    #go through the list A\n",
    "    for i in range(1, len(A)):\n",
    "        temp = A[i]\n",
    "        j=i-1\n",
    "        while j>=0 and A[j]>temp:\n",
    "            A[j+1]=A[j]\n",
    "            j-=1\n",
    "        A[j+1]=temp\n",
    "    \n",
    "    return A\n",
    "\n",
    "\n",
    "\n",
    "print(insertionSort(checkList))"
   ]
  }
 ],
 "metadata": {
  "interpreter": {
   "hash": "4ff471450ef2b4e62aa3771c72ae35f56e59bf4f4cb84e9ac33aecd7fac9a5af"
  },
  "kernelspec": {
   "display_name": "Python 3.9.7 ('base')",
   "language": "python",
   "name": "python3"
  },
  "language_info": {
   "codemirror_mode": {
    "name": "ipython",
    "version": 3
   },
   "file_extension": ".py",
   "mimetype": "text/x-python",
   "name": "python",
   "nbconvert_exporter": "python",
   "pygments_lexer": "ipython3",
   "version": "3.9.7"
  },
  "orig_nbformat": 4
 },
 "nbformat": 4,
 "nbformat_minor": 2
}
