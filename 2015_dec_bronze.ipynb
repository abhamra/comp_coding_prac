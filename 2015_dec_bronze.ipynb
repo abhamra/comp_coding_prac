{
 "cells": [
  {
   "cell_type": "markdown",
   "metadata": {},
   "source": [
    "Several seasons of hot summers and cold winters have taken their toll on Farmer John's fence, and he decides it is time to repaint it, along with the help of his favorite cow, Bessie. Unfortunately, while Bessie is actually remarkably proficient at painting, she is not as good at understanding Farmer John's instructions.\n",
    "\n",
    "If we regard the fence as a one-dimensional number line, Farmer John paints the interval between x=a\n",
    "and x=b. For example, if a=3 and b=5, then Farmer John paints an interval of length 2. Bessie, misunderstanding Farmer John's instructions, paints the interval from x=c to x=d\n",
    "\n",
    ", which may possibly overlap with part or all of Farmer John's interval. Please determine the total length of fence that is now covered with paint.\n",
    "\n",
    "INPUT FORMAT (file paint.in):\n",
    "The first line of the input contains the integers a\n",
    "and b, separated by a space (a<b).\n",
    "\n",
    "The second line contains integers c\n",
    "and d, separated by a space (c<d\n",
    "\n",
    ").\n",
    "\n",
    "The values of a\n",
    ", b, c, and d all lie in the range 0…100\n",
    "\n",
    ", inclusive.\n",
    "\n",
    "OUTPUT FORMAT (file paint.out):\n",
    "Please output a single line containing the total length of the fence covered with paint.\n",
    "\n",
    "SAMPLE INPUT:\n",
    "\n",
    "7 10\n",
    "\n",
    "4 8\n",
    "\n",
    "SAMPLE OUTPUT:\n",
    "\n",
    "6\n",
    "\n",
    "Here, 6 total units of fence are covered with paint, from x=4\n",
    "all the way through x=10. "
   ]
  },
  {
   "cell_type": "code",
   "execution_count": 2,
   "metadata": {},
   "outputs": [
    {
     "name": "stdout",
     "output_type": "stream",
     "text": [
      "7\n"
     ]
    }
   ],
   "source": [
    "a = 7\n",
    "b = 10\n",
    "c = 4\n",
    "d = 8\n",
    "painted_array = [False for i in range (0, 100)]\n",
    "for i in range(a, b):\n",
    "    painted_array[i]=True\n",
    "for i in range(c, d):\n",
    "    painted_array[i]=True\n",
    "\n",
    "print(sum(painted_array))\n"
   ]
  },
  {
   "cell_type": "markdown",
   "metadata": {},
   "source": []
  }
 ],
 "metadata": {
  "interpreter": {
   "hash": "40d3a090f54c6569ab1632332b64b2c03c39dcf918b08424e98f38b5ae0af88f"
  },
  "kernelspec": {
   "display_name": "Python 3.8.5 ('base')",
   "language": "python",
   "name": "python3"
  },
  "language_info": {
   "codemirror_mode": {
    "name": "ipython",
    "version": 3
   },
   "file_extension": ".py",
   "mimetype": "text/x-python",
   "name": "python",
   "nbconvert_exporter": "python",
   "pygments_lexer": "ipython3",
   "version": "3.8.5"
  },
  "orig_nbformat": 4
 },
 "nbformat": 4,
 "nbformat_minor": 2
}
